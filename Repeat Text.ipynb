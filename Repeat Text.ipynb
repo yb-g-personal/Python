{
 "cells": [
  {
   "cell_type": "code",
   "execution_count": 21,
   "metadata": {},
   "outputs": [
    {
     "name": "stdout",
     "output_type": "stream",
     "text": [
      "<Your text here> <Your text here> <Your text here> <Your text here> <Your text here> <Your text here> <Your text here> <Your text here> \n"
     ]
    }
   ],
   "source": [
    "t = (\"<Your text here> \")\n",
    "n = int(input(\"Please type a number to print the text\"))\n",
    "\n",
    "print(t * n)"
   ]
  }
 ],
 "metadata": {
  "kernelspec": {
   "display_name": "Python 3.10.5 64-bit (windows store)",
   "language": "python",
   "name": "python3"
  },
  "language_info": {
   "codemirror_mode": {
    "name": "ipython",
    "version": 3
   },
   "file_extension": ".py",
   "mimetype": "text/x-python",
   "name": "python",
   "nbconvert_exporter": "python",
   "pygments_lexer": "ipython3",
   "version": "3.10.5"
  },
  "orig_nbformat": 4,
  "vscode": {
   "interpreter": {
    "hash": "addd732910d138da6e81d3b5ba5cf1376ede15256bc4cec81e782871a3d4052f"
   }
  }
 },
 "nbformat": 4,
 "nbformat_minor": 2
}
