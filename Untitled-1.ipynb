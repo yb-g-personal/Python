{
 "cells": [
  {
   "cell_type": "code",
   "execution_count": 15,
   "metadata": {},
   "outputs": [
    {
     "name": "stdout",
     "output_type": "stream",
     "text": [
      "The temperature in Farenheit is:  73.4\n"
     ]
    }
   ],
   "source": [
    "C = int(input(\"Please type the temperature in Celsius\"))\n",
    "F = C*(9/5) + 32\n",
    "print(\"The temperature in Farenheit is: \",F)"
   ]
  },
  {
   "cell_type": "code",
   "execution_count": 14,
   "metadata": {},
   "outputs": [
    {
     "name": "stdout",
     "output_type": "stream",
     "text": [
      "The temperature in Celsius is:  23.88888888888889\n"
     ]
    }
   ],
   "source": [
    "F = int(input(\"Please type the temperature in Farenheit\"))\n",
    "C = 5/9*(F-32)\n",
    "print(\"The temperature in Celsius is: \",C)"
   ]
  },
  {
   "cell_type": "code",
   "execution_count": 6,
   "metadata": {},
   "outputs": [
    {
     "name": "stdout",
     "output_type": "stream",
     "text": [
      "The after swapping of a is:  4\n",
      "The after swapping of b is:  8\n"
     ]
    }
   ],
   "source": [
    "a = int(input(\"Please type a number for a\"))\n",
    "b = int(input(\"Please type a number for b\"))\n",
    "print (\"The before swapping of a is: \",a)\n",
    "print (\"The before swapping of b is: \",b)\n",
    "a = a + b\n",
    "b = a - b\n",
    "a = a - b\n",
    "print (\"The after swapping of a is: \",a)\n",
    "print (\"The after swapping of b is: \",b)"
   ]
  },
  {
   "cell_type": "code",
   "execution_count": 22,
   "metadata": {},
   "outputs": [],
   "source": [
    "gm = \"Good Morning \"\n",
    "n = int(input(\"Please type a number to print Good Morning\"))\n",
    "\n",
    "print(gm * n)"
   ]
  }
 ],
 "metadata": {
  "kernelspec": {
   "display_name": "Python 3.10.5 64-bit (windows store)",
   "language": "python",
   "name": "python3"
  },
  "language_info": {
   "codemirror_mode": {
    "name": "ipython",
    "version": 3
   },
   "file_extension": ".py",
   "mimetype": "text/x-python",
   "name": "python",
   "nbconvert_exporter": "python",
   "pygments_lexer": "ipython3",
   "version": "3.10.5"
  },
  "orig_nbformat": 4,
  "vscode": {
   "interpreter": {
    "hash": "addd732910d138da6e81d3b5ba5cf1376ede15256bc4cec81e782871a3d4052f"
   }
  }
 },
 "nbformat": 4,
 "nbformat_minor": 2
}
