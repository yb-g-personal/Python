{
 "cells": [
  {
   "cell_type": "code",
   "execution_count": 15,
   "metadata": {},
   "outputs": [
    {
     "name": "stdout",
     "output_type": "stream",
     "text": [
      "The temperature in Farenheit is:  73.4\n"
     ]
    }
   ],
   "source": [
    "C = int(input(\"Please type the temperature in Celsius\"))\n",
    "F = C*(9/5) + 32\n",
    "print(\"The temperature in Farenheit is: \",F)"
   ]
  },
  {
   "cell_type": "code",
   "execution_count": 14,
   "metadata": {},
   "outputs": [
    {
     "name": "stdout",
     "output_type": "stream",
     "text": [
      "The temperature in Celsius is:  23.88888888888889\n"
     ]
    }
   ],
   "source": [
    "F = int(input(\"Please type the temperature in Farenheit\"))\n",
    "C = 5/9*(F-32)\n",
    "print(\"The temperature in Celsius is: \",C)"
   ]
  }
 ],
 "metadata": {
  "kernelspec": {
   "display_name": "Python 3.10.5 64-bit (windows store)",
   "language": "python",
   "name": "python3"
  },
  "language_info": {
   "codemirror_mode": {
    "name": "ipython",
    "version": 3
   },
   "file_extension": ".py",
   "mimetype": "text/x-python",
   "name": "python",
   "nbconvert_exporter": "python",
   "pygments_lexer": "ipython3",
   "version": "3.10.5"
  },
  "orig_nbformat": 4,
  "vscode": {
   "interpreter": {
    "hash": "addd732910d138da6e81d3b5ba5cf1376ede15256bc4cec81e782871a3d4052f"
   }
  }
 },
 "nbformat": 4,
 "nbformat_minor": 2
}
