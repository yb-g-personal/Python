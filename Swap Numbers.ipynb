{
 "cells": [
  {
   "cell_type": "code",
   "execution_count": null,
   "metadata": {},
   "outputs": [],
   "source": [
    "a = int(input(\"Please type a number for a\"))\n",
    "b = int(input(\"Please type a number for b\"))\n",
    "print (\"The before swapping of a is: \",a)\n",
    "print (\"The before swapping of b is: \",b)\n",
    "a = a + b\n",
    "b = a - b\n",
    "a = a - b\n",
    "print (\"The after swapping of a is: \",a)\n",
    "print (\"The after swapping of b is: \",b)"
   ]
  }
 ],
 "metadata": {
  "kernelspec": {
   "display_name": "Python 3.10.5 64-bit (windows store)",
   "language": "python",
   "name": "python3"
  },
  "language_info": {
   "name": "python",
   "version": "3.10.5"
  },
  "orig_nbformat": 4,
  "vscode": {
   "interpreter": {
    "hash": "addd732910d138da6e81d3b5ba5cf1376ede15256bc4cec81e782871a3d4052f"
   }
  }
 },
 "nbformat": 4,
 "nbformat_minor": 2
}
