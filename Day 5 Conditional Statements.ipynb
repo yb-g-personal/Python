{
 "cells": [
  {
   "cell_type": "code",
   "execution_count": 2,
   "metadata": {},
   "outputs": [
    {
     "name": "stdout",
     "output_type": "stream",
     "text": [
      "Number A is greater than B\n"
     ]
    }
   ],
   "source": [
    "#write a program to compare\n",
    "#if.. statement\n",
    "\n",
    "A = int(input(\"Enter A:\"))\n",
    "B = int(input(\"Enter B:\"))\n",
    "if A>B:\n",
    "    print(\"Number A is greater than B\")"
   ]
  },
  {
   "cell_type": "code",
   "execution_count": null,
   "metadata": {},
   "outputs": [],
   "source": [
    "#if.. statement\n",
    "\n",
    "A = int(input(\"Enter A:\"))\n",
    "B = int(input(\"Enter B:\"))\n",
    "if A>B:\n",
    "    print(\"Number A is greater than B\")\n",
    "else:\n",
    "    print(\"Number B is greater than A\")"
   ]
  },
  {
   "cell_type": "code",
   "execution_count": 4,
   "metadata": {},
   "outputs": [
    {
     "name": "stdout",
     "output_type": "stream",
     "text": [
      "Number A is equal to B\n"
     ]
    }
   ],
   "source": [
    "#if.. statement\n",
    "\n",
    "A = int(input(\"Enter A:\"))\n",
    "B = int(input(\"Enter B:\"))\n",
    "if A>B:\n",
    "    print(\"Number A is greater than B\")\n",
    "elif A==B:\n",
    "    print(\"Number A is equal to B\")\n",
    "else:\n",
    "    print(\"Number B is greater than A\")"
   ]
  },
  {
   "cell_type": "code",
   "execution_count": 6,
   "metadata": {},
   "outputs": [
    {
     "name": "stdout",
     "output_type": "stream",
     "text": [
      "Number is negative\n"
     ]
    }
   ],
   "source": [
    "#if.. statement\n",
    "\n",
    "A = int(input(\"Enter a number:\"))\n",
    "if A>0:\n",
    "    print(\"The number is positive\")\n",
    "else:\n",
    "    print(\"The number is negative\")"
   ]
  }
 ],
 "metadata": {
  "kernelspec": {
   "display_name": "Python 3.10.5 64-bit",
   "language": "python",
   "name": "python3"
  },
  "language_info": {
   "codemirror_mode": {
    "name": "ipython",
    "version": 3
   },
   "file_extension": ".py",
   "mimetype": "text/x-python",
   "name": "python",
   "nbconvert_exporter": "python",
   "pygments_lexer": "ipython3",
   "version": "3.10.5"
  },
  "orig_nbformat": 4,
  "vscode": {
   "interpreter": {
    "hash": "26de051ba29f2982a8de78e945f0abaf191376122a1563185a90213a26c5da77"
   }
  }
 },
 "nbformat": 4,
 "nbformat_minor": 2
}
